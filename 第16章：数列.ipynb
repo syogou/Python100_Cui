{
 "cells": [
  {
   "cell_type": "code",
   "execution_count": null,
   "metadata": {},
   "outputs": [
    {
     "name": "stdout",
     "output_type": "stream",
     "text": [
      "[2, 3, 8, 63, 3968, 15745023, 247905749270528, 61457260521381894004129398783, 3776994870793005510047522464634252677140721938309041881088, 14265690253996672387291309349232388828298289458234016200317876247121873778287073518355813134107244701354409532063743]\n"
     ]
    }
   ],
   "source": [
    "a = [0] * 10 \n",
    "for n in range (1 ,10 ,1 ):\n",
    "    a[0] = 2\n",
    "    a[n] = a[n-1] ** 2 - 1\n",
    "print (a)"
   ]
  }
 ],
 "metadata": {
  "kernelspec": {
   "display_name": "Python 3",
   "language": "python",
   "name": "python3"
  },
  "language_info": {
   "codemirror_mode": {
    "name": "ipython",
    "version": 3
   },
   "file_extension": ".py",
   "mimetype": "text/x-python",
   "name": "python",
   "nbconvert_exporter": "python",
   "pygments_lexer": "ipython3",
   "version": "3.9.6"
  }
 },
 "nbformat": 4,
 "nbformat_minor": 2
}
