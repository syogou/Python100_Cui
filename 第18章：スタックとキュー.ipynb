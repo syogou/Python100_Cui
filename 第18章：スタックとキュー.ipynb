{
 "cells": [
  {
   "cell_type": "code",
   "execution_count": null,
   "metadata": {},
   "outputs": [
    {
     "name": "stdout",
     "output_type": "stream",
     "text": [
      "0\n",
      "2\n",
      "4\n",
      "6\n",
      "8\n"
     ]
    },
    {
     "data": {
      "text/plain": [
       "[1, 3, 5, 7, 9]"
      ]
     },
     "execution_count": 1,
     "metadata": {},
     "output_type": "execute_result"
    }
   ],
   "source": [
    "stack = [] # 空のスタックを定義します。\n",
    "for x in range(10):\n",
    "    stack.append(x) # スタックのトップに0から9までの値を追加します。\n",
    "    if x%2 == 0: # もしxが偶数であれば、\n",
    "        y = stack.pop() # スタックのトップの値を取り出してyに追加します。\n",
    "        print(y)\n",
    "\n",
    "stack\n"
   ]
  },
  {
   "cell_type": "code",
   "execution_count": null,
   "metadata": {},
   "outputs": [
    {
     "name": "stdout",
     "output_type": "stream",
     "text": [
      "0\n",
      "1\n",
      "2\n",
      "3\n",
      "4\n"
     ]
    },
    {
     "data": {
      "text/plain": [
       "[5, 6, 7, 8, 9]"
      ]
     },
     "execution_count": 2,
     "metadata": {},
     "output_type": "execute_result"
    }
   ],
   "source": [
    "queue = [] # 空のキューを定義します。\n",
    "for x in range(10):\n",
    "    queue.append(x) # スタックのトップに0から9までの値を追加します。\n",
    "    if x%2 == 0: # もしxが偶数であれば、\n",
    "        y = queue.pop(0) # スタックのトップの値を取り出してyに追加します。\n",
    "        print(y)\n",
    "\n",
    "queue\n"
   ]
  }
 ],
 "metadata": {
  "kernelspec": {
   "display_name": "Python 3",
   "language": "python",
   "name": "python3"
  },
  "language_info": {
   "codemirror_mode": {
    "name": "ipython",
    "version": 3
   },
   "file_extension": ".py",
   "mimetype": "text/x-python",
   "name": "python",
   "nbconvert_exporter": "python",
   "pygments_lexer": "ipython3",
   "version": "3.9.6"
  }
 },
 "nbformat": 4,
 "nbformat_minor": 2
}
