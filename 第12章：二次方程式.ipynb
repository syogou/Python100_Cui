{
 "cells": [
  {
   "cell_type": "code",
   "execution_count": 15,
   "metadata": {},
   "outputs": [],
   "source": [
    "import math\n",
    "\n",
    "class quadratic_equation:\n",
    "    def __init__(self, a, b, c):\n",
    "        self.a = a\n",
    "        self.b = b\n",
    "        self.c = c\n",
    "\n",
    "    def compute_x(self):\n",
    "        if self.b ** 2 - 4 * self.a * self.c < 0:\n",
    "            raise TypeError(\"解は虚数解となる。\")\n",
    "        elif (- self.b + math.sqrt(self.b ** 2 - 4 * self.a * self.c))/2 *self.a == (- self.b - math.sqrt(self.b ** 2 - 4 * self.a * self.c))/2 :\n",
    "            return (- self.b + math.sqrt(self.b ** 2 - 4 * self.a * self.c))/(2 *self.a)\n",
    "        else:\n",
    "            solution = [(- self.b + math.sqrt(self.b ** 2 - 4 * self.a * self.c))/(2 *self.a) , (- self.b - math.sqrt(self.b ** 2 - 4 * self.a * self.c))/(2 *self.a)]\n",
    "            return solution"
   ]
  },
  {
   "cell_type": "code",
   "execution_count": 16,
   "metadata": {},
   "outputs": [
    {
     "data": {
      "text/plain": [
       "[-0.24169426078820835, -2.758305739211792]"
      ]
     },
     "execution_count": 16,
     "metadata": {},
     "output_type": "execute_result"
    }
   ],
   "source": [
    "My_Fomula = quadratic_equation(3,9,2)\n",
    "My_Fomula.compute_x()"
   ]
  },
  {
   "cell_type": "code",
   "execution_count": null,
   "metadata": {},
   "outputs": [],
   "source": []
  }
 ],
 "metadata": {
  "kernelspec": {
   "display_name": "Python 3",
   "language": "python",
   "name": "python3"
  },
  "language_info": {
   "codemirror_mode": {
    "name": "ipython",
    "version": 3
   },
   "file_extension": ".py",
   "mimetype": "text/x-python",
   "name": "python",
   "nbconvert_exporter": "python",
   "pygments_lexer": "ipython3",
   "version": "3.9.6"
  }
 },
 "nbformat": 4,
 "nbformat_minor": 2
}
