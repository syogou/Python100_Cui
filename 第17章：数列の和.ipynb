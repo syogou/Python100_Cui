{
 "cells": [
  {
   "cell_type": "code",
   "execution_count": 3,
   "metadata": {},
   "outputs": [
    {
     "name": "stdout",
     "output_type": "stream",
     "text": [
      "i = 1 n = 2 sum = 1.25\n",
      "i = 2 n = 4 sum = 2.673611111111111\n",
      "i = 3 n = 8 sum = 4.201033163265306\n",
      "i = 4 n = 16 sum = 5.785379696710292\n",
      "i = 5 n = 32 sum = 7.399546959538215\n",
      "i = 6 n = 64 sum = 9.028977460947099\n",
      "i = 7 n = 128 sum = 10.666129465901555\n"
     ]
    }
   ],
   "source": [
    "sum = 0\n",
    "\n",
    "for i in range(1,8,1):\n",
    "    n = 2 ** i\n",
    "    for k in range (1,n+1,1):\n",
    "\n",
    "        sum +=  1 / (k ** 2)\n",
    "\n",
    "    print(f\"i = {i} n = {n} sum = {sum}\")"
   ]
  }
 ],
 "metadata": {
  "kernelspec": {
   "display_name": "Python 3",
   "language": "python",
   "name": "python3"
  },
  "language_info": {
   "codemirror_mode": {
    "name": "ipython",
    "version": 3
   },
   "file_extension": ".py",
   "mimetype": "text/x-python",
   "name": "python",
   "nbconvert_exporter": "python",
   "pygments_lexer": "ipython3",
   "version": "3.9.6"
  }
 },
 "nbformat": 4,
 "nbformat_minor": 2
}
