{
 "cells": [
  {
   "cell_type": "code",
   "execution_count": 3,
   "metadata": {},
   "outputs": [
    {
     "name": "stdout",
     "output_type": "stream",
     "text": [
      "[0, 1, 1, 2, 3, 5, 8, 13, 21, 34, 55]\n",
      "elapsed_time:0.00016379356384277344[sec]\n"
     ]
    }
   ],
   "source": [
    "import time\n",
    "\n",
    "start = time.time()\n",
    "def factorial_recursion(n):\n",
    "    a = [0] * (n + 1)\n",
    "    a[0] = 0\n",
    "    a[1] = 1\n",
    "    for i in range(2, n+1):\n",
    "        a[i] = a[i-1] + a[i-2]\n",
    "    print (a)\n",
    "    return a\n",
    "factorial_recursion(10)\n",
    "\n",
    "elapsed_time = time.time() - start\n",
    "print(\"elapsed_time:{0}\".format(elapsed_time) + \"[sec]\")"
   ]
  },
  {
   "cell_type": "code",
   "execution_count": 4,
   "metadata": {},
   "outputs": [
    {
     "name": "stdout",
     "output_type": "stream",
     "text": [
      "[1, 1, 2, 3, 5, 8, 13, 21, 34, 55]\n",
      "elapsed_time:0.00019621849060058594[sec]\n"
     ]
    }
   ],
   "source": [
    "start = time.time()\n",
    "\n",
    "def  factorial_iterative(n,result = None):\n",
    "    if result is None:\n",
    "        result = []\n",
    "    if n < 2:\n",
    "        result.append(n)\n",
    "        return result\n",
    "    result = factorial_iterative(n-1, result)\n",
    "    result.append(result[-1] + result[-2] if len(result) > 1 else 1)\n",
    "    return result\n",
    "fibonacci_sequence = factorial_iterative(10)\n",
    "print(fibonacci_sequence)\n",
    "elapsed_time = time.time() - start\n",
    "print(\"elapsed_time:{0}\".format(elapsed_time) + \"[sec]\")"
   ]
  }
 ],
 "metadata": {
  "kernelspec": {
   "display_name": "Python 3",
   "language": "python",
   "name": "python3"
  },
  "language_info": {
   "codemirror_mode": {
    "name": "ipython",
    "version": 3
   },
   "file_extension": ".py",
   "mimetype": "text/x-python",
   "name": "python",
   "nbconvert_exporter": "python",
   "pygments_lexer": "ipython3",
   "version": "3.9.6"
  }
 },
 "nbformat": 4,
 "nbformat_minor": 2
}
