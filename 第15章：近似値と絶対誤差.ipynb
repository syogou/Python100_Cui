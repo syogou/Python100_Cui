{
 "cells": [
  {
   "cell_type": "code",
   "execution_count": null,
   "metadata": {},
   "outputs": [
    {
     "name": "stdout",
     "output_type": "stream",
     "text": [
      "出力は 0.0 sinxは　0.0 絶対誤差は　0.0\n",
      "出力は 0.02 sinxは　0.02 絶対誤差は　0.0\n",
      "出力は 0.04 sinxは　0.03999 絶対誤差は　0.0\n",
      "出力は 0.06 sinxは　0.05996 絶対誤差は　0.0\n",
      "出力は 0.08 sinxは　0.07991 絶対誤差は　0.0001\n",
      "出力は 0.1 sinxは　0.09983 絶対誤差は　0.0002\n",
      "出力は 0.12 sinxは　0.11971 絶対誤差は　0.0003\n",
      "出力は 0.14 sinxは　0.13954 絶対誤差は　0.0005\n",
      "出力は 0.16 sinxは　0.15932 絶対誤差は　0.0007\n",
      "出力は 0.18 sinxは　0.17903 絶対誤差は　0.001\n",
      "出力は 0.2 sinxは　0.19867 絶対誤差は　0.0013\n",
      "出力は 0.22 sinxは　0.21823 絶対誤差は　0.0018\n",
      "出力は 0.24 sinxは　0.2377 絶対誤差は　0.0023\n",
      "出力は 0.26 sinxは　0.25708 絶対誤差は　0.0029\n",
      "出力は 0.28 sinxは　0.27636 絶対誤差は　0.0036\n",
      "出力は 0.3 sinxは　0.29552 絶対誤差は　0.0045\n",
      "出力は 0.32 sinxは　0.31457 絶対誤差は　0.0054\n",
      "出力は 0.34 sinxは　0.33349 絶対誤差は　0.0065\n",
      "出力は 0.36 sinxは　0.35227 絶対誤差は　0.0077\n",
      "出力は 0.38 sinxは　0.37092 絶対誤差は　0.0091\n"
     ]
    }
   ],
   "source": [
    "import math\n",
    "import numpy as np\n",
    "for x in np.arange(0 , 0.4, 0.02) :  # 浮動小数点数の場合、rangeではなくnp.arangeを使用する必要があります。\n",
    "    sin_value = math.sin(x)\n",
    "    sin_value_rounded = round(sin_value, 5) # roundは小数点以下の桁数を保持するために使用されます。\n",
    "    absolute_error = abs (x - sin_value)\n",
    "    absolute_error_rounded = round(absolute_error, 4)\n",
    "    print(f\"出力は {x} sinxは　{sin_value_rounded} 絶対誤差は　{absolute_error_rounded}\")"
   ]
  }
 ],
 "metadata": {
  "kernelspec": {
   "display_name": "Python 3",
   "language": "python",
   "name": "python3"
  },
  "language_info": {
   "codemirror_mode": {
    "name": "ipython",
    "version": 3
   },
   "file_extension": ".py",
   "mimetype": "text/x-python",
   "name": "python",
   "nbconvert_exporter": "python",
   "pygments_lexer": "ipython3",
   "version": "3.9.6"
  }
 },
 "nbformat": 4,
 "nbformat_minor": 2
}
