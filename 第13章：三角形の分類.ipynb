{
 "cells": [
  {
   "cell_type": "code",
   "execution_count": 9,
   "metadata": {},
   "outputs": [],
   "source": [
    "class Classification_of_Triangles:\n",
    "    def __init__(self, a, b, c):\n",
    "        self.a = a\n",
    "        self.b = b\n",
    "        self.c = c\n",
    "\n",
    "    def Judge_Type(self):\n",
    "        if self.a ** 2 + self.b ** 2 == self.c ** 2 or self.c ** 2 + self.b ** 2 == self.a ** 2 or self.a ** 2 + self.c ** 2 == self.b ** 2:\n",
    "            return \"この三角形は直角三角形です。\"\n",
    "        elif self.a +self.b < self.c or self.c +self.b < self.a or self.a +self.c < self.b :\n",
    "            raise TypeError(\"すみません、三角形を形成できない。\")\n",
    "\n",
    "        elif self.a ** 2 + self.b ** 2 > self.c ** 2 and self.a ** 2 + self.b ** 2 > self.c ** 2 and self.a ** 2 + self.b ** 2 > self.c ** 2:\n",
    "            return \"この三角形は鋭角三角形です。\"\n",
    "\n",
    "        else :\n",
    "            return \"この三角形は鈍角三角形です。\"\n"
   ]
  },
  {
   "cell_type": "code",
   "execution_count": 14,
   "metadata": {},
   "outputs": [
    {
     "data": {
      "text/plain": [
       "'この三角形は鈍角三角形です。'"
      ]
     },
     "execution_count": 14,
     "metadata": {},
     "output_type": "execute_result"
    }
   ],
   "source": [
    "My_Triangle = Classification_of_Triangles(3,2,4)\n",
    "My_Triangle.Judge_Type()"
   ]
  }
 ],
 "metadata": {
  "kernelspec": {
   "display_name": "Python 3",
   "language": "python",
   "name": "python3"
  },
  "language_info": {
   "codemirror_mode": {
    "name": "ipython",
    "version": 3
   },
   "file_extension": ".py",
   "mimetype": "text/x-python",
   "name": "python",
   "nbconvert_exporter": "python",
   "pygments_lexer": "ipython3",
   "version": "3.9.6"
  }
 },
 "nbformat": 4,
 "nbformat_minor": 2
}
